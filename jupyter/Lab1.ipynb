{
 "cells": [
  {
   "cell_type": "markdown",
   "metadata": {},
   "source": [
    "## Lab1 目標：整理各縣市鄉鎮區行政中心資料\n",
    "- ~~[3碼郵遞區號與行政區中心點經緯度對照表](https://data.gov.tw/dataset/25489)~~\n",
    "- [中華民國統計資訊網 - 行政區域及村里代碼](https://www.stat.gov.tw/ct.asp?xItem=14380&CtNode=1519&mp=4)"
   ]
  },
  {
   "cell_type": "markdown",
   "metadata": {},
   "source": [
    "預計 schema\n",
    "- 所屬縣市 + 鄉鎮區名\n",
    "- 舊制區碼\n",
    "- 三小時預報的 url\n",
    "- ~~新制區碼 (只有里編號，沒有顯式規定區碼)~~\n",
    "- ~~經度~~\n",
    "- ~~緯度~~\n",
    "- ~~3碼郵遞區號~~"
   ]
  },
  {
   "cell_type": "code",
   "execution_count": 2,
   "metadata": {
    "collapsed": true
   },
   "outputs": [],
   "source": [
    "import sys\n",
    "import pandas as pd"
   ]
  },
  {
   "cell_type": "code",
   "execution_count": 56,
   "metadata": {
    "collapsed": true
   },
   "outputs": [],
   "source": [
    "infile_xlsx = 'comparison_table.xlsx'\n",
    "#df = pd.read_excel(infile_xlsx)"
   ]
  },
  {
   "cell_type": "code",
   "execution_count": 57,
   "metadata": {
    "collapsed": true
   },
   "outputs": [],
   "source": [
    "xl = pd.ExcelFile(infile_xlsx)"
   ]
  },
  {
   "cell_type": "code",
   "execution_count": 58,
   "metadata": {},
   "outputs": [
    {
     "data": {
      "text/plain": [
       "['主計總處與內政部對照表']"
      ]
     },
     "execution_count": 58,
     "metadata": {},
     "output_type": "execute_result"
    }
   ],
   "source": [
    "xl.sheet_names"
   ]
  },
  {
   "cell_type": "code",
   "execution_count": 59,
   "metadata": {
    "collapsed": true
   },
   "outputs": [],
   "source": [
    "dfp = xl.parse('主計總處與內政部對照表')"
   ]
  },
  {
   "cell_type": "code",
   "execution_count": 60,
   "metadata": {
    "collapsed": true
   },
   "outputs": [],
   "source": [
    "header = dfp.iloc[2]"
   ]
  },
  {
   "cell_type": "code",
   "execution_count": 69,
   "metadata": {
    "collapsed": true
   },
   "outputs": [],
   "source": [
    "import copy\n",
    "df = dfp[3:].copy().copy()\n",
    "df = df.rename(columns = header)\n",
    "df = df.reset_index(drop=True)"
   ]
  },
  {
   "cell_type": "code",
   "execution_count": 71,
   "metadata": {},
   "outputs": [
    {
     "data": {
      "text/plain": [
       "['縣市代碼', '縣市名稱', '區里代碼', '區鄉鎮名稱', '村里代碼', '村里名稱', '村里代碼']"
      ]
     },
     "execution_count": 71,
     "metadata": {},
     "output_type": "execute_result"
    }
   ],
   "source": [
    "list(df)"
   ]
  },
  {
   "cell_type": "code",
   "execution_count": 77,
   "metadata": {},
   "outputs": [
    {
     "data": {
      "text/plain": [
       "縣市名稱  區鄉鎮名稱\n",
       "南投縣   中寮鄉      18\n",
       "      仁愛鄉      16\n",
       "      信義鄉      14\n",
       "      南投市      34\n",
       "      名間鄉      23\n",
       "      國姓鄉      13\n",
       "      埔里鎮      33\n",
       "      水里鄉      19\n",
       "      竹山鎮      28\n",
       "      草屯鎮      27\n",
       "      集集鎮      11\n",
       "      魚池鄉      13\n",
       "      鹿谷鄉      13\n",
       "台中市   中區        8\n",
       "      北區       36\n",
       "      北屯區      42\n",
       "      南區       22\n",
       "      南屯區      25\n",
       "      后里區      18\n",
       "      和平區       8\n",
       "      外埔區      11\n",
       "      大安區      12\n",
       "      大甲區      29\n",
       "      大肚區      17\n",
       "      大里區      27\n",
       "      大雅區      15\n",
       "      太平區      39\n",
       "      新社區      13\n",
       "      東勢區      25\n",
       "      東區       17\n",
       "               ..\n",
       "高雄市   大社區       9\n",
       "      小港區      38\n",
       "      岡山區      33\n",
       "      左營區      39\n",
       "      彌陀區      12\n",
       "      新興區      32\n",
       "      旗山區      21\n",
       "      旗津區      13\n",
       "      杉林區       8\n",
       "      林園區      24\n",
       "      桃源區       8\n",
       "      梓官區      15\n",
       "      楠梓區      37\n",
       "      橋頭區      17\n",
       "      永安區       6\n",
       "      湖內區      14\n",
       "      燕巢區      11\n",
       "      田寮區      10\n",
       "      甲仙區       7\n",
       "      美濃區      19\n",
       "      苓雅區      69\n",
       "      茂林區       3\n",
       "      茄萣區      15\n",
       "      路竹區      20\n",
       "      那瑪夏區      3\n",
       "      阿蓮區      12\n",
       "      鳥松區       7\n",
       "      鳳山區      76\n",
       "      鹽埕區      21\n",
       "      鼓山區      38\n",
       "Length: 368, dtype: int64"
      ]
     },
     "execution_count": 77,
     "metadata": {},
     "output_type": "execute_result"
    }
   ],
   "source": [
    "df.groupby(['縣市名稱','區鄉鎮名稱']).size()"
   ]
  },
  {
   "cell_type": "code",
   "execution_count": 96,
   "metadata": {
    "collapsed": true
   },
   "outputs": [],
   "source": [
    "grouped_df = list(df.groupby(['縣市名稱','區鄉鎮名稱']))"
   ]
  },
  {
   "cell_type": "code",
   "execution_count": 98,
   "metadata": {},
   "outputs": [
    {
     "data": {
      "text/plain": [
       "'南投縣'"
      ]
     },
     "execution_count": 98,
     "metadata": {},
     "output_type": "execute_result"
    }
   ],
   "source": [
    "grouped_df[0][0][0]"
   ]
  },
  {
   "cell_type": "markdown",
   "metadata": {},
   "source": [
    "## iteratively 取出 tuples of list 裡 tuple[0]，concat 在一起"
   ]
  },
  {
   "cell_type": "code",
   "execution_count": null,
   "metadata": {
    "collapsed": true
   },
   "outputs": [],
   "source": []
  }
 ],
 "metadata": {
  "kernelspec": {
   "display_name": "Python 3",
   "language": "python",
   "name": "python3"
  },
  "language_info": {
   "codemirror_mode": {
    "name": "ipython",
    "version": 3
   },
   "file_extension": ".py",
   "mimetype": "text/x-python",
   "name": "python",
   "nbconvert_exporter": "python",
   "pygments_lexer": "ipython3",
   "version": "3.4.3"
  }
 },
 "nbformat": 4,
 "nbformat_minor": 2
}
